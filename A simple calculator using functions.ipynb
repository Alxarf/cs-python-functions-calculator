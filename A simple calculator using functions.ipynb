{
 "cells": [
  {
   "cell_type": "markdown",
   "metadata": {},
   "source": [
    "## A simple calculator using functions\n",
    "\n",
    "1) Read code and discuss - ask questions!\n",
    "\n",
    "2) Comment code\n",
    "\n",
    "3) Extend the calculator with 5 more functions\n"
   ]
  },
  {
   "cell_type": "code",
   "execution_count": null,
   "metadata": {},
   "outputs": [
    {
     "name": "stdout",
     "output_type": "stream",
     "text": [
      "Welcome to my calculator\n",
      "A)dd numbers\n",
      "S)ubtract numbers\n",
      "D)ivide numbers\n",
      "M)ultiply numbers\n",
      "P) Square numbers\n",
      "Q) Square root numbers\n",
      "F) Modulo\n",
      "L) Floor division\n",
      "Menu choice: l\n",
      "Enter the first number10\n",
      "Enter the first number5\n",
      "The answer is 2\n",
      "A)dd numbers\n",
      "S)ubtract numbers\n",
      "D)ivide numbers\n",
      "M)ultiply numbers\n",
      "P) Square numbers\n",
      "Q) Square root numbers\n",
      "F) Modulo\n",
      "L) Floor division\n"
     ]
    }
   ],
   "source": [
    "from math import sqrt\n",
    "\n",
    "def mainMenu():# defines the main menu function \n",
    "    validChoices = list(operations.keys()) # get valid operations \n",
    "    while True:\n",
    "        print('A)dd numbers\\nS)ubtract numbers\\nD)ivide numbers\\nM)ultiply numbers\\nP) Square numbers\\nQ) Square root numbers\\nF) Modulo\\nL) Floor division') # Print possible operands\n",
    "        choice = input('Menu choice: ').upper()\n",
    "        if choice in validChoices: # check if entered choice is valid and support\n",
    "            break\n",
    "        print('Sorry that is not a valid menu choice')\n",
    "    return choice\n",
    "    \n",
    "\n",
    "def enterNumber(): # function creates a input and returns it as a integer\n",
    "    while True:\n",
    "        try: \n",
    "            x=int(input('Enter the first number'))\n",
    "            break # break the loop if the value is entered\n",
    "        except ValueError: # if input cannot be converted to an int, throw error\n",
    "            print('That was not a valid number.. please try again')\n",
    "    \n",
    "    return x # returns entered input that is a int by now\n",
    "\n",
    "operations = {\n",
    "    'A': lambda x, y: x + y, # contains a list of easily extensible operands\n",
    "    'S': lambda x, y: x - y,   # that can be accessed by simply indexing the input choice\n",
    "    'D': lambda x, y: x / y,\n",
    "    'M': lambda x, y: x * y,\n",
    "    'P': lambda x, y: x ** y,\n",
    "    'Q': lambda x, y: sqrt(x),\n",
    "    'F': lambda x, y: x % y,\n",
    "    'L': lambda x, y: x // y\n",
    "}\n",
    "\n",
    "# main program starts here\n",
    "print('Welcome to my calculator')\n",
    "while True:\n",
    "    userChoice = mainMenu() # get user operation choice\n",
    "    answer = operations[userChoice](enterNumber(), enterNumber()) # call the operation with two integer arguments\n",
    "    print(f'The answer is {answer}') # print out the answer using f-string literals to avoid manual type conversion\n",
    "    "
   ]
  },
  {
   "cell_type": "code",
   "execution_count": null,
   "metadata": {},
   "outputs": [],
   "source": []
  },
  {
   "cell_type": "code",
   "execution_count": null,
   "metadata": {},
   "outputs": [],
   "source": []
  }
 ],
 "metadata": {
  "kernelspec": {
   "display_name": "Python 3",
   "language": "python",
   "name": "python3"
  },
  "language_info": {
   "codemirror_mode": {
    "name": "ipython",
    "version": 3
   },
   "file_extension": ".py",
   "mimetype": "text/x-python",
   "name": "python",
   "nbconvert_exporter": "python",
   "pygments_lexer": "ipython3",
   "version": "3.6.5"
  }
 },
 "nbformat": 4,
 "nbformat_minor": 2
}
